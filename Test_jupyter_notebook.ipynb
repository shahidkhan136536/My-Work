{
 "cells": [
  {
   "cell_type": "markdown",
   "id": "566cc179",
   "metadata": {},
   "source": [
    "# Python \n",
    "\n",
    "## How to use jupyter Notebook\n",
    "\n",
    "### Basics Of Python\n",
    "\n",
    "###  01-My First Program\n",
    "\n"
   ]
  },
  {
   "cell_type": "code",
   "execution_count": 4,
   "id": "aae1507c",
   "metadata": {},
   "outputs": [
    {
     "name": "stdout",
     "output_type": "stream",
     "text": [
      "5\n",
      "Hello World\n",
      "we are learning python with \n"
     ]
    }
   ],
   "source": [
    "\n",
    "print(2+3)\n",
    "print(\"Hello World\")\n",
    "print(\"we are learning python with \")\n"
   ]
  },
  {
   "cell_type": "markdown",
   "id": "13f0e41d",
   "metadata": {},
   "source": [
    "### ***02- operators***"
   ]
  },
  {
   "cell_type": "code",
   "execution_count": 5,
   "id": "9dae966b",
   "metadata": {
    "scrolled": true
   },
   "outputs": [
    {
     "name": "stdout",
     "output_type": "stream",
     "text": [
      "3\n",
      "2\n",
      "3.0\n",
      "6\n",
      "1\n",
      "3\n",
      "8\n",
      "6.5\n"
     ]
    }
   ],
   "source": [
    "print(2+1)\n",
    "print(3-1)\n",
    "print(6/2)\n",
    "print(2*3)\n",
    "print(13%2)\n",
    "print(6//2)\n",
    "print(2**3)\n",
    "print(3**2/2*3/3+6-4)"
   ]
  },
  {
   "cell_type": "markdown",
   "id": "37b8862f",
   "metadata": {},
   "source": [
    "### ***03-strings***"
   ]
  },
  {
   "cell_type": "code",
   "execution_count": 9,
   "id": "a2976695",
   "metadata": {},
   "outputs": [
    {
     "name": "stdout",
     "output_type": "stream",
     "text": [
      "Hello World\n",
      "we are learning python with shahid \n",
      "test for single quotes\n",
      "test for double quotes\n",
      " test for tripple quotes \n",
      "   what's up\n"
     ]
    }
   ],
   "source": [
    "print(\"Hello World\")\n",
    "print(\"we are learning python with shahid \")\n",
    "print('test for single quotes')\n",
    "print(\"test for double quotes\")\n",
    "print(''' test for tripple quotes ''')\n",
    "print(\"   what's up\")"
   ]
  },
  {
   "cell_type": "markdown",
   "id": "da78b661",
   "metadata": {},
   "source": [
    "### ***04-Comments in Python***"
   ]
  },
  {
   "cell_type": "code",
   "execution_count": 8,
   "id": "88c078a6",
   "metadata": {},
   "outputs": [
    {
     "name": "stdout",
     "output_type": "stream",
     "text": [
      "how are u?\n",
      "we are learning python with shahid\n",
      "5\n"
     ]
    }
   ],
   "source": [
    "print(\"how are u?\")#presss these to comment out(ctrl+/)\n",
    "print(\"we are learning python with shahid\")#print a string\n",
    "print(2+3)#print operators functions with number"
   ]
  },
  {
   "cell_type": "markdown",
   "id": "726facc9",
   "metadata": {},
   "source": [
    "### ***05-Variables in Python***"
   ]
  },
  {
   "cell_type": "code",
   "execution_count": 11,
   "id": "6dc967e3",
   "metadata": {},
   "outputs": [
    {
     "name": "stdout",
     "output_type": "stream",
     "text": [
      "5\n",
      "i am shahid khan\n",
      "17\n",
      "i am not a shahid\n",
      "<class 'int'>\n",
      "<class 'str'>\n",
      "<class 'str'>\n",
      "Mangoes\n"
     ]
    }
   ],
   "source": [
    "x=5# numeric objects containing specific values\n",
    "print(x)\n",
    "y=\"i am shahid khan\" #string variable\n",
    "print(y)\n",
    "x=x+12 #x=17\n",
    "print(x)\n",
    "y=\"i am not a shahid\"\n",
    "print(y)\n",
    "# #types/class of variables\n",
    "type(x)\n",
    "print(type(x))\n",
    "print(type(y))\n",
    "#rules to assign a variable\n",
    "#1-the variable should contain letters,numbers or underscores\n",
    "#2-do not start with numbers\n",
    "#3-spaces are not allowed\n",
    "#4-do not use keywords used in functions (break,mean,media,test etc)\n",
    "#5- short and descripive\n",
    "#6-case sentivity(lower case,uppercase, letters, lower case should be used)\n",
    "fruit_basket= 8\n",
    "fruit_basket=\"Mangoes\"\n",
    "print(type(fruit_basket))\n",
    "print(fruit_basket)\n",
    "\n",
    "\n"
   ]
  },
  {
   "cell_type": "markdown",
   "id": "7243fc77",
   "metadata": {},
   "source": [
    "### ***06-Input Variables in Python***"
   ]
  },
  {
   "cell_type": "code",
   "execution_count": 13,
   "id": "fb28b605",
   "metadata": {},
   "outputs": [
    {
     "name": "stdout",
     "output_type": "stream",
     "text": [
      "what is your favourite fruit?mangoes\n",
      "mangoes\n",
      "what is your name? shahid\n",
      "Hello! shahid\n",
      "what is your name? sh\n",
      "Hello sh\n",
      "what is your name? sh\n",
      "how old are u? 4\n",
      "Hello sh You are still young\n"
     ]
    }
   ],
   "source": [
    "#input function simple\n",
    "fruit_Basket=input(\"what is your favourite fruit?\")\n",
    "print(fruit_Basket)\n",
    "\n",
    "#input function of second stage \n",
    "name= input(\"what is your name? \")\n",
    "greetings=\"Hello!\"\n",
    "print(greetings,name)\n",
    "#Another way\n",
    "name= input(\"what is your name? \")\n",
    "\n",
    "print(\"Hello\", name)\n",
    "#third stage input function\n",
    "name= input(\"what is your name? \")\n",
    "age=input(\"how old are u? \")\n",
    "greetings=\"Hello\"\n",
    "print(greetings, name, \"You are still young\")\n"
   ]
  },
  {
   "cell_type": "markdown",
   "id": "0bae7e48",
   "metadata": {},
   "source": [
    "### ***07-Conditional logic***"
   ]
  },
  {
   "cell_type": "code",
   "execution_count": null,
   "id": "ae2f3cf6",
   "metadata": {},
   "outputs": [],
   "source": [
    "#print(4!=4)\n",
    "#print(4==4)\n",
    "#print(5==4)\n",
    "#Application of Logical operators\n",
    "#hammad_age=4\n",
    "#age_at_school=5\n",
    "#print(hammad_age==age_at_school)\n",
    "#input function and logical operator\n",
    "age_at_school=5\n",
    "hammad_age=input(\"how old is hammad? \")\n",
    "hammad_age=int(hammad_age)\n",
    "print(type(hammad_age))\n",
    "print(hammad_age==age_at_school)"
   ]
  },
  {
   "cell_type": "markdown",
   "id": "c3aeb0d6",
   "metadata": {},
   "source": [
    "### ***08-Type-conversion***"
   ]
  },
  {
   "cell_type": "code",
   "execution_count": 15,
   "id": "6abe7784",
   "metadata": {},
   "outputs": [
    {
     "name": "stdout",
     "output_type": "stream",
     "text": [
      "what is your nameshahid\n",
      "shahid <class 'str'>\n"
     ]
    }
   ],
   "source": [
    "x=5\n",
    "y=4.5\n",
    "z=\"hello world\"\n",
    "#implicit type conversion\n",
    "x=x+y\n",
    "#print(x,\"type of x is \",type(x))\n",
    "#explicit type conversion\n",
    "#age=input(\"what is your age\")\n",
    "#age=int(age)\n",
    "#print(age,type(int(age)))\n",
    "#name\n",
    "name=input(\"what is your name\")\n",
    "print(name,type(str(name)))\n"
   ]
  },
  {
   "cell_type": "markdown",
   "id": "e8d3f7ee",
   "metadata": {},
   "source": [
    "### ***09-If_else_elif***"
   ]
  },
  {
   "cell_type": "code",
   "execution_count": 16,
   "id": "ee956601",
   "metadata": {},
   "outputs": [
    {
     "name": "stdout",
     "output_type": "stream",
     "text": [
      "u cannot goto school\n"
     ]
    }
   ],
   "source": [
    "required_age_at_school = 5 #q can hammad go to school?\n",
    "omer_age = 25\n",
    "if omer_age==required_age_at_school:\n",
    "    print(\"yes he can go\")\n",
    "#elif omer_age>required_age_at_school:\n",
    "    print(\"he should high school\")    \n",
    "#elif omer_age<=3:\n",
    "    print(\"u should take care of omr\")\n",
    "else:\n",
    "    print(\"u cannot goto school\")    "
   ]
  },
  {
   "cell_type": "markdown",
   "id": "0cc5a50f",
   "metadata": {},
   "source": [
    "### ***10_Function***"
   ]
  },
  {
   "cell_type": "code",
   "execution_count": 17,
   "id": "e011402d",
   "metadata": {},
   "outputs": [
    {
     "name": "stdout",
     "output_type": "stream",
     "text": [
      "30\n"
     ]
    }
   ],
   "source": [
    "#Defining a function\n",
    "#1\n",
    "#def shahid_khan():\n",
    "    #print(\"My name is khan\")\n",
    "    #print(\"My name is khan\")\n",
    "    #print(\"My name is khan\")\n",
    "#shahid_khan()  \n",
    "#2\n",
    "#def shahid_khan():\n",
    "    #text = \"My name is khan\"\n",
    "    #print(text)\n",
    "    #print(text)\n",
    "    #print(text) \n",
    "\n",
    "#shahid_khan() \n",
    "#3\n",
    "#def shahid_khan(text):\n",
    "    # print(text)\n",
    "    # print(text)\n",
    "    # print(text)\n",
    "#shahid_khan(\"i am shahid khan\")  \n",
    "# def school_calculator(age):\n",
    "#     if age==5:\n",
    "#         print(\"shahid can join the school \")\n",
    "#     elif age>=6:\n",
    "#         print(\"shahid should goto high school\")\n",
    "#     else:\n",
    "#         print(\"shahid is still a baby\")  \n",
    "\n",
    "# school_calculator(2)  \n",
    "# 6 define function of future age\n",
    "def future_age(age):\n",
    "    new_age=age+25\n",
    "    return new_age\n",
    "    print(new_age)\n",
    "predicted_fut_age=future_age(5)\n",
    "print(predicted_fut_age)\n",
    "\n",
    "\n"
   ]
  },
  {
   "cell_type": "code",
   "execution_count": null,
   "id": "2e2936e9",
   "metadata": {},
   "outputs": [],
   "source": []
  },
  {
   "cell_type": "code",
   "execution_count": null,
   "id": "d9c7b459",
   "metadata": {},
   "outputs": [],
   "source": []
  },
  {
   "cell_type": "code",
   "execution_count": null,
   "id": "b5f4ddac",
   "metadata": {},
   "outputs": [],
   "source": []
  },
  {
   "cell_type": "code",
   "execution_count": null,
   "id": "ce5e4079",
   "metadata": {},
   "outputs": [],
   "source": []
  },
  {
   "cell_type": "code",
   "execution_count": null,
   "id": "ad6c9e43",
   "metadata": {},
   "outputs": [],
   "source": []
  },
  {
   "cell_type": "code",
   "execution_count": null,
   "id": "c60ee07a",
   "metadata": {},
   "outputs": [],
   "source": []
  },
  {
   "cell_type": "code",
   "execution_count": null,
   "id": "5021c5c0",
   "metadata": {},
   "outputs": [],
   "source": []
  },
  {
   "cell_type": "code",
   "execution_count": null,
   "id": "f27656bf",
   "metadata": {},
   "outputs": [],
   "source": []
  },
  {
   "cell_type": "code",
   "execution_count": null,
   "id": "e0d6dbdd",
   "metadata": {},
   "outputs": [],
   "source": []
  },
  {
   "cell_type": "code",
   "execution_count": null,
   "id": "29190519",
   "metadata": {},
   "outputs": [],
   "source": []
  },
  {
   "cell_type": "code",
   "execution_count": null,
   "id": "fcd87de5",
   "metadata": {},
   "outputs": [],
   "source": []
  }
 ],
 "metadata": {
  "kernelspec": {
   "display_name": "Python 3 (ipykernel)",
   "language": "python",
   "name": "python3"
  },
  "language_info": {
   "codemirror_mode": {
    "name": "ipython",
    "version": 3
   },
   "file_extension": ".py",
   "mimetype": "text/x-python",
   "name": "python",
   "nbconvert_exporter": "python",
   "pygments_lexer": "ipython3",
   "version": "3.9.12"
  }
 },
 "nbformat": 4,
 "nbformat_minor": 5
}
