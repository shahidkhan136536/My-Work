{
 "cells": [
  {
   "cell_type": "code",
   "execution_count": 1,
   "id": "dbbccfdb",
   "metadata": {},
   "outputs": [],
   "source": [
    "import random "
   ]
  },
  {
   "cell_type": "code",
   "execution_count": 2,
   "id": "82b76b17",
   "metadata": {},
   "outputs": [
    {
     "name": "stdout",
     "output_type": "stream",
     "text": [
      "Any guessing number4\n",
      "guess lower\n",
      "guess again3\n",
      "correct ans\n",
      "you took 2 attempts\n"
     ]
    }
   ],
   "source": [
    "x = random.randint(1,50)\n",
    "guess = int(input(\"Any guessing number\")) \n",
    "counter = 1\n",
    "while guess != x:\n",
    "    if guess < x:\n",
    "        print(\"guess higher\")\n",
    "    else:\n",
    "        print(\"guess lower\")\n",
    "    guess = int(input(\"guess again\"))\n",
    "    counter+=1\n",
    "        \n",
    "print(\"correct ans\")\n",
    "print(\"you took\",counter,\"attempts\")\n"
   ]
  }
 ],
 "metadata": {
  "kernelspec": {
   "display_name": "Python 3 (ipykernel)",
   "language": "python",
   "name": "python3"
  },
  "language_info": {
   "codemirror_mode": {
    "name": "ipython",
    "version": 3
   },
   "file_extension": ".py",
   "mimetype": "text/x-python",
   "name": "python",
   "nbconvert_exporter": "python",
   "pygments_lexer": "ipython3",
   "version": "3.9.12"
  }
 },
 "nbformat": 4,
 "nbformat_minor": 5
}
